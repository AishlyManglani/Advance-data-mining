{
  "nbformat": 4,
  "nbformat_minor": 0,
  "metadata": {
    "colab": {
      "provenance": [],
      "include_colab_link": true
    },
    "kernelspec": {
      "name": "python3",
      "display_name": "Python 3"
    },
    "language_info": {
      "name": "python"
    }
  },
  "cells": [
    {
      "cell_type": "markdown",
      "metadata": {
        "id": "view-in-github",
        "colab_type": "text"
      },
      "source": [
        "<a href=\"https://colab.research.google.com/github/AishlyManglani/Advanced-data-mining_CMPE-256/blob/main/Hopping_window.ipynb\" target=\"_parent\"><img src=\"https://colab.research.google.com/assets/colab-badge.svg\" alt=\"Open In Colab\"/></a>"
      ]
    },
    {
      "cell_type": "code",
      "execution_count": 1,
      "metadata": {
        "id": "KyHtccPIytZ_"
      },
      "outputs": [],
      "source": [
        "import pandas as pd\n",
        "\n"
      ]
    },
    {
      "cell_type": "code",
      "source": [
        "  # Load the data\n",
        "file_path = '/content/DCOILWTICO (1).csv'  # Replace with your file path\n",
        "data = pd.read_csv(file_path)\n",
        "\n"
      ],
      "metadata": {
        "id": "WEyumD7GzXFZ"
      },
      "execution_count": 2,
      "outputs": []
    },
    {
      "cell_type": "code",
      "source": [
        "# Convert DATE to datetime and sort by date\n",
        "data['DATE'] = pd.to_datetime(data['DATE'])\n",
        "data = data.sort_values(by='DATE')\n",
        "\n"
      ],
      "metadata": {
        "id": "Ch0opiuKzi3j"
      },
      "execution_count": 3,
      "outputs": []
    },
    {
      "cell_type": "code",
      "source": [
        "# Ensure the price column is numeric\n",
        "data['DCOILWTICO'] = pd.to_numeric(data['DCOILWTICO'], errors='coerce')\n",
        "\n"
      ],
      "metadata": {
        "id": "xUnsI2Ayzndc"
      },
      "execution_count": 4,
      "outputs": []
    },
    {
      "cell_type": "code",
      "source": [
        "# Drop rows with missing or invalid prices\n",
        "data = data.dropna(subset=['DCOILWTICO'])\n",
        "\n"
      ],
      "metadata": {
        "id": "iqgrwePczsMu"
      },
      "execution_count": 5,
      "outputs": []
    },
    {
      "cell_type": "code",
      "source": [
        "# Set up the hopping window strategy for weekly analysis\n",
        "window_size = '7D'  # Weekly window\n",
        "hop_size = '7D'  # Weekly hop\n",
        "\n"
      ],
      "metadata": {
        "id": "3zI7CUqBzsNl"
      },
      "execution_count": 6,
      "outputs": []
    },
    {
      "cell_type": "code",
      "source": [
        "# Resample the data with hopping windows\n",
        "rolling_stats = data.set_index('DATE')['DCOILWTICO'] \\\n",
        "    .rolling(window=window_size, min_periods=1) \\\n",
        "    .agg(['mean', 'max'])\n",
        "\n"
      ],
      "metadata": {
        "id": "ZJynoorxz5Og"
      },
      "execution_count": 7,
      "outputs": []
    },
    {
      "cell_type": "code",
      "source": [
        "# Aggregate weekly results with hopping window intervals\n",
        "hopping_window_stats = rolling_stats.resample(hop_size).first()\n",
        "\n"
      ],
      "metadata": {
        "id": "2zonIfM0z73M"
      },
      "execution_count": 8,
      "outputs": []
    },
    {
      "cell_type": "code",
      "source": [
        "# Reset the index and rename columns\n",
        "hopping_window_stats.reset_index(inplace=True)\n",
        "hopping_window_stats.rename(columns={'mean': 'Weekly Mean', 'max': 'Weekly Max'}, inplace=True)\n",
        "\n"
      ],
      "metadata": {
        "id": "3QtAGqOJ0DaW"
      },
      "execution_count": 9,
      "outputs": []
    },
    {
      "cell_type": "code",
      "source": [
        "# Print the results directly instead of saving to a CSV file\n",
        "print(\"Weekly statistics:\")\n",
        "print(hopping_window_stats)\n"
      ],
      "metadata": {
        "colab": {
          "base_uri": "https://localhost:8080/"
        },
        "id": "Bl21VKShPRqJ",
        "outputId": "67969363-165a-4561-8fa2-cbea53ba85ce"
      },
      "execution_count": 11,
      "outputs": [
        {
          "output_type": "stream",
          "name": "stdout",
          "text": [
            "Weekly statistics:\n",
            "          DATE  Weekly Mean  Weekly Max\n",
            "0   2019-10-28      55.6000       55.60\n",
            "1   2019-11-04      55.3160       56.33\n",
            "2   2019-11-11      56.6875       57.02\n",
            "3   2019-11-18      56.8960       57.54\n",
            "4   2019-11-25      57.0940       58.36\n",
            "..         ...          ...         ...\n",
            "257 2024-09-30      69.7020       72.34\n",
            "258 2024-10-07      73.6340       77.76\n",
            "259 2024-10-14      74.4100       76.46\n",
            "260 2024-10-21      70.8780       71.26\n",
            "261 2024-10-28      70.8920       72.84\n",
            "\n",
            "[262 rows x 3 columns]\n"
          ]
        }
      ]
    },
    {
      "cell_type": "code",
      "source": [
        "# Export the results to a CSV file\n",
        "output_file = 'Hopping_Window_Weekly_Stats.csv'  # Replace with desired output path\n",
        "hopping_window_stats.to_csv(output_file, index=False)\n",
        "\n",
        "print(f\"Weekly statistics saved to {output_file}\")"
      ],
      "metadata": {
        "colab": {
          "base_uri": "https://localhost:8080/"
        },
        "id": "weDeqI7B0GNp",
        "outputId": "641ff80e-4fc1-47d1-8325-46380d657b97"
      },
      "execution_count": 10,
      "outputs": [
        {
          "output_type": "stream",
          "name": "stdout",
          "text": [
            "Weekly statistics saved to Hopping_Window_Weekly_Stats.csv\n"
          ]
        }
      ]
    }
  ]
}